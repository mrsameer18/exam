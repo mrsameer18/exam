{
 "cells": [
  {
   "cell_type": "code",
   "execution_count": 2,
   "id": "df4aaba4",
   "metadata": {},
   "outputs": [],
   "source": [
    "import tensorflow as tf\n",
    "from tensorflow import keras\n",
    "import os,datetime"
   ]
  },
  {
   "cell_type": "code",
   "execution_count": 4,
   "id": "df8b864c",
   "metadata": {},
   "outputs": [],
   "source": [
    "mnist=tf.keras.datasets.mnist"
   ]
  },
  {
   "cell_type": "code",
   "execution_count": 8,
   "id": "a7237e9b",
   "metadata": {},
   "outputs": [],
   "source": [
    "(x_train,y_train),(x_test,y_test)=mnist.load_data()"
   ]
  },
  {
   "cell_type": "code",
   "execution_count": 9,
   "id": "edffb788",
   "metadata": {},
   "outputs": [
    {
     "name": "stdout",
     "output_type": "stream",
     "text": [
      "shape is : (28, 28)\n"
     ]
    }
   ],
   "source": [
    "print(\"shape is :\",x_train[0].shape)"
   ]
  },
  {
   "cell_type": "code",
   "execution_count": 10,
   "id": "46d0dd25",
   "metadata": {},
   "outputs": [
    {
     "data": {
      "image/png": "[encoded data removed]",
      "text/plain": [
       "<Figure size 640x480 with 1 Axes>"
      ]
     },
     "metadata": {},
     "output_type": "display_data"
    },
    {
     "name": "stdout",
     "output_type": "stream",
     "text": [
      "first digit in y_train is : 5\n"
     ]
    }
   ],
   "source": [
    "import matplotlib.pyplot as plt\n",
    "plt.imshow(x_train[0])\n",
    "plt.show()\n",
    "print(\"first digit in y_train is :\",y_train[0])"
   ]
  },
  {
   "cell_type": "code",
   "execution_count": 11,
   "id": "dcbe1ef5",
   "metadata": {},
   "outputs": [],
   "source": [
    "x_train,x_test=x_train/255.0,x_test/255.0"
   ]
  },
  {
   "cell_type": "code",
   "execution_count": 12,
   "id": "fc5bb604",
   "metadata": {},
   "outputs": [],
   "source": [
    "model=tf.keras.models.Sequential([\n",
    "    tf.keras.layers.Flatten(input_shape=(28,28)),\n",
    "    tf.keras.layers.Dense(512,activation='relu'),\n",
    "    tf.keras.layers.Dropout(0.2),\n",
    "    tf.keras.layers.Dense(10,activation='softmax')\n",
    "])"
   ]
  },
  {
   "cell_type": "code",
   "execution_count": 13,
   "id": "8d7a23db",
   "metadata": {},
   "outputs": [],
   "source": [
    "model.compile(optimizer='adam',\n",
    "              loss='sparse_categorical_crossentropy',\n",
    "              metrics=['accuracy'])"
   ]
  },
  {
   "cell_type": "code",
   "execution_count": 21,
   "id": "ccc5ac56",
   "metadata": {},
   "outputs": [],
   "source": [
    "logdir=os.path.join(\"logs\",datetime.datetime.now().strftime(\"%Y%m%d-%H%M%S\"))\n",
    "tensorboard_callback=tf.keras.callbacks.TensorBoard(logdir,histogram_freq=1)"
   ]
  },
  {
   "cell_type": "code",
   "execution_count": 19,
   "id": "95ecf3bf",
   "metadata": {},
   "outputs": [],
   "source": [
    "checkpoint_path=\"training_2/cp={epoch:04d}.ckpt\"\n",
    "checkpoint_dir=os.path.dirname(checkpoint_path)\n",
    "checkpoint_callback=tf.keras.callbacks.ModelCheckpoint(checkpoint_path,monitor='val_acc',verbose=1,save_weights_only=True,save_freq='epoch')"
   ]
  },
  {
   "cell_type": "code",
   "execution_count": 22,
   "id": "a78903e3",
   "metadata": {},
   "outputs": [
    {
     "name": "stdout",
     "output_type": "stream",
     "text": [
      "Epoch 1/5\n",
      "1874/1875 [============================>.] - ETA: 0s - loss: 0.2180 - accuracy: 0.9350\n",
      "Epoch 1: saving model to training_2\\cp=0001.ckpt\n",
      "1875/1875 [==============================] - 12s 6ms/step - loss: 0.2179 - accuracy: 0.9351 - val_loss: 0.1034 - val_accuracy: 0.9681\n",
      "Epoch 2/5\n",
      "1872/1875 [============================>.] - ETA: 0s - loss: 0.0979 - accuracy: 0.9695\n",
      "Epoch 2: saving model to training_2\\cp=0002.ckpt\n",
      "1875/1875 [==============================] - 11s 6ms/step - loss: 0.0980 - accuracy: 0.9694 - val_loss: 0.0808 - val_accuracy: 0.9740\n",
      "Epoch 3/5\n",
      "1866/1875 [============================>.] - ETA: 0s - loss: 0.0700 - accuracy: 0.9782\n",
      "Epoch 3: saving model to training_2\\cp=0003.ckpt\n",
      "1875/1875 [==============================] - 11s 6ms/step - loss: 0.0700 - accuracy: 0.9782 - val_loss: 0.0733 - val_accuracy: 0.9762\n",
      "Epoch 4/5\n",
      "1866/1875 [============================>.] - ETA: 0s - loss: 0.0514 - accuracy: 0.9832\n",
      "Epoch 4: saving model to training_2\\cp=0004.ckpt\n",
      "1875/1875 [==============================] - 11s 6ms/step - loss: 0.0513 - accuracy: 0.9832 - val_loss: 0.0635 - val_accuracy: 0.9798\n",
      "Epoch 5/5\n",
      "1869/1875 [============================>.] - ETA: 0s - loss: 0.0428 - accuracy: 0.9858\n",
      "Epoch 5: saving model to training_2\\cp=0005.ckpt\n",
      "1875/1875 [==============================] - 11s 6ms/step - loss: 0.0427 - accuracy: 0.9858 - val_loss: 0.0673 - val_accuracy: 0.9803\n",
      "313/313 [==============================] - 0s 2ms/step - loss: 0.0673 - accuracy: 0.9803\n",
      "Original model,accuracy:98.03%\n"
     ]
    }
   ],
   "source": [
    "history = model.fit(x_train, y_train, epochs=5, validation_data=(x_test,y_test),callbacks=[tensorboard_callback,checkpoint_callback])\n",
    "loss,acc=model.evaluate(x_test,y_test,verbose=1)\n",
    "print('Original model,accuracy:{:5.2F}%'.format(100*acc))"
   ]
  },
  {
   "cell_type": "code",
   "execution_count": 23,
   "id": "840a8552",
   "metadata": {},
   "outputs": [
    {
     "name": "stderr",
     "output_type": "stream",
     "text": [
      "WARNING:absl:Found untraced functions such as _update_step_xla while saving (showing 1 of 1). These functions will not be directly callable after loading.\n"
     ]
    },
    {
     "name": "stdout",
     "output_type": "stream",
     "text": [
      "INFO:tensorflow:Assets written to: MyModel\\assets\n"
     ]
    },
    {
     "name": "stderr",
     "output_type": "stream",
     "text": [
      "INFO:tensorflow:Assets written to: MyModel\\assets\n"
     ]
    }
   ],
   "source": [
    "model.save('MyModel',save_format='tf')"
   ]
  },
  {
   "cell_type": "code",
   "execution_count": 24,
   "id": "c736bede",
   "metadata": {},
   "outputs": [
    {
     "name": "stdout",
     "output_type": "stream",
     "text": [
      "313/313 [==============================] - 1s 2ms/step - loss: 0.0673 - accuracy: 0.9803\n",
      "model accuracy:98.03%\n"
     ]
    }
   ],
   "source": [
    "loaded_model=tf.keras.models.load_model('MyModel')\n",
    "loaded_loss,loaded_acc=loaded_model.evaluate(x_test,y_test,verbose=1)\n",
    "print(\"model accuracy:{:5.2f}%\".format(100*loaded_acc))"
   ]
  },
  {
   "cell_type": "code",
   "execution_count": 25,
   "id": "276ccf88",
   "metadata": {},
   "outputs": [
    {
     "data": {
      "image/png": "[encoded data removed]",
      "text/plain": [
       "<Figure size 640x480 with 1 Axes>"
      ]
     },
     "metadata": {},
     "output_type": "display_data"
    }
   ],
   "source": [
    "plt.plot(history.history['accuracy'],'-o')\n",
    "plt.plot(history.history['val_accuracy'],'--o')\n",
    "plt.title(\"Accuracy: Train and Validation\",fontsize=14,fontweight='bold')\n",
    "plt.ylabel('Accuracy',fontsize=12,fontweight='bold')\n",
    "plt.xlabel('Epochs',fontsize=12,fontweight='bold')\n",
    "plt.legend([\"Train,Validation\"],loc=\"upper left\")\n",
    "plt.show()"
   ]
  },
  {
   "cell_type": "code",
   "execution_count": null,
   "id": "6a1af783",
   "metadata": {},
   "outputs": [],
   "source": []
  }
 ],
 "metadata": {
  "kernelspec": {
   "display_name": "Python 3 (ipykernel)",
   "language": "python",
   "name": "python3"
  },
  "language_info": {
   "codemirror_mode": {
    "name": "ipython",
    "version": 3
   },
   "file_extension": ".py",
   "mimetype": "text/x-python",
   "name": "python",
   "nbconvert_exporter": "python",
   "pygments_lexer": "ipython3",
   "version": "3.9.13"
  }
 },
 "nbformat": 4,
 "nbformat_minor": 5
}
